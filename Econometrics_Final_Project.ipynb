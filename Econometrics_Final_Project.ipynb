{
  "nbformat": 4,
  "nbformat_minor": 0,
  "metadata": {
    "colab": {
      "provenance": [],
      "include_colab_link": true
    },
    "kernelspec": {
      "name": "python3",
      "display_name": "Python 3"
    },
    "language_info": {
      "name": "python"
    }
  },
  "cells": [
    {
      "cell_type": "markdown",
      "metadata": {
        "id": "view-in-github",
        "colab_type": "text"
      },
      "source": [
        "<a href=\"https://colab.research.google.com/github/jalalhaider19/Jalal-Haider/blob/main/Econometrics_Final_Project.ipynb\" target=\"_parent\"><img src=\"https://colab.research.google.com/assets/colab-badge.svg\" alt=\"Open In Colab\"/></a>"
      ]
    },
    {
      "cell_type": "code",
      "source": [
        "import pandas as pd\n",
        "#import OLS module\n",
        "from statsmodels.formula.api import ols"
      ],
      "metadata": {
        "id": "NR1sz9DmmrJj"
      },
      "execution_count": null,
      "outputs": []
    },
    {
      "cell_type": "markdown",
      "source": [
        "**We will first conduct a regression of stationarized (growth & detrended) data.**"
      ],
      "metadata": {
        "id": "uSDkAnwQm-Yh"
      }
    },
    {
      "cell_type": "code",
      "source": [
        "#analyze detrended edexp vs gdp avgage, urban, and differences in avgage, urban\n",
        "data = pd.read_csv(\"tsdata.csv\")\n",
        "for column in data.columns:\n",
        "  if column == \"t\":\n",
        "    data[column] = data[column].astype(int)\n",
        "  else:\n",
        "    data[column] = data[column].astype(float)\n",
        "print(data.head())"
      ],
      "metadata": {
        "id": "CGpshBowUzl2",
        "colab": {
          "base_uri": "https://localhost:8080/"
        },
        "outputId": "00657825-840b-452d-ac3f-d554eeb6d639"
      },
      "execution_count": null,
      "outputs": [
        {
          "output_type": "stream",
          "name": "stdout",
          "text": [
            "   t  edexp_gdp  dtr_g_edexp_cap  dtr_g_gdp_cap  medage  over_65  over_85  \\\n",
            "0  0   0.049118              NaN            NaN    27.2   0.0990   0.0070   \n",
            "1  1   0.051003         0.114355       0.073335    27.3   0.1004   0.0073   \n",
            "2  2   0.051453         0.098977       0.089595    27.4   0.1018   0.0076   \n",
            "3  3   0.048908         0.053748       0.108671    27.5   0.1032   0.0079   \n",
            "4  4   0.049076         0.083949       0.080693    27.6   0.1046   0.0082   \n",
            "\n",
            "     urban  dmedage   durban       LFP  d_over_65  dtr_d_over_65  d_over_85  \\\n",
            "0  0.73602      NaN      NaN  0.603833        NaN            NaN        NaN   \n",
            "1  0.73613      0.1  0.00011  0.601583     0.0014       0.001363     0.0003   \n",
            "2  0.73623      0.1  0.00010  0.603833     0.0014       0.001326     0.0003   \n",
            "3  0.73633      0.1  0.00010  0.607750     0.0014       0.001289     0.0003   \n",
            "4  0.73643      0.1  0.00010  0.612750     0.0014       0.001252     0.0003   \n",
            "\n",
            "   dtr_durban     d_LFP  \n",
            "0         NaN       NaN  \n",
            "1    0.000073 -0.002250  \n",
            "2    0.000026  0.002250  \n",
            "3   -0.000010  0.003917  \n",
            "4   -0.000047  0.005000  \n"
          ]
        }
      ]
    },
    {
      "cell_type": "markdown",
      "source": [
        "**Regression of detrended growth of edexp_cap on detrended growth of gdp_cap, difference in urban population share, difference in 85+ population share, diff in labor force participation**"
      ],
      "metadata": {
        "id": "O4vw05eq-Gln"
      }
    },
    {
      "cell_type": "code",
      "source": [
        "#run regression\n",
        "model = ols(\"dtr_g_edexp_cap ~ dtr_g_gdp_cap + dtr_durban+ d_over_85 + d_LFP + 1\", data = data).fit(cov_type = \"HC1\")\n",
        "print(model.summary())"
      ],
      "metadata": {
        "id": "5jxtcK5_BUeT",
        "colab": {
          "base_uri": "https://localhost:8080/"
        },
        "outputId": "c3125eed-d813-4b77-c94c-cd5035edb140"
      },
      "execution_count": null,
      "outputs": [
        {
          "output_type": "stream",
          "name": "stdout",
          "text": [
            "                            OLS Regression Results                            \n",
            "==============================================================================\n",
            "Dep. Variable:        dtr_g_edexp_cap   R-squared:                       0.109\n",
            "Model:                            OLS   Adj. R-squared:                  0.028\n",
            "Method:                 Least Squares   F-statistic:                     2.911\n",
            "Date:                Tue, 14 May 2024   Prob (F-statistic):             0.0320\n",
            "Time:                        12:51:50   Log-Likelihood:                 124.81\n",
            "No. Observations:                  49   AIC:                            -239.6\n",
            "Df Residuals:                      44   BIC:                            -230.2\n",
            "Df Model:                           4                                         \n",
            "Covariance Type:                  HC1                                         \n",
            "=================================================================================\n",
            "                    coef    std err          z      P>|z|      [0.025      0.975]\n",
            "---------------------------------------------------------------------------------\n",
            "Intercept         0.1242      0.019      6.466      0.000       0.087       0.162\n",
            "dtr_g_gdp_cap    -0.1504      0.161     -0.933      0.351      -0.466       0.166\n",
            "dtr_durban       -3.1323      2.977     -1.052      0.293      -8.967       2.702\n",
            "d_over_85       -57.7185     20.942     -2.756      0.006     -98.764     -16.673\n",
            "d_LFP            -0.0890      0.872     -0.102      0.919      -1.797       1.619\n",
            "==============================================================================\n",
            "Omnibus:                        2.849   Durbin-Watson:                   1.400\n",
            "Prob(Omnibus):                  0.241   Jarque-Bera (JB):                1.847\n",
            "Skew:                           0.345   Prob(JB):                        0.397\n",
            "Kurtosis:                       3.655   Cond. No.                     1.00e+04\n",
            "==============================================================================\n",
            "\n",
            "Notes:\n",
            "[1] Standard Errors are heteroscedasticity robust (HC1)\n",
            "[2] The condition number is large,  1e+04. This might indicate that there are\n",
            "strong multicollinearity or other numerical problems.\n"
          ]
        }
      ]
    },
    {
      "cell_type": "markdown",
      "source": [
        "**Regression on edexp percentage of gdp on difference in urban population share, difference in over 85, difference in labor force participation**"
      ],
      "metadata": {
        "id": "tEfv56yd-WWC"
      }
    },
    {
      "cell_type": "code",
      "source": [
        "model = ols(\"edexp_gdp ~ dtr_durban+ d_over_85 + d_LFP + 1\", data = data)\\\n",
        "  .fit(cov_type = \"HC1\")\n",
        "print(model.summary())"
      ],
      "metadata": {
        "colab": {
          "base_uri": "https://localhost:8080/"
        },
        "id": "WQ5yEQsbANDq",
        "outputId": "749117e6-1603-41d4-d2bf-e5b46621daa5"
      },
      "execution_count": null,
      "outputs": [
        {
          "output_type": "stream",
          "name": "stdout",
          "text": [
            "                            OLS Regression Results                            \n",
            "==============================================================================\n",
            "Dep. Variable:              edexp_gdp   R-squared:                       0.576\n",
            "Model:                            OLS   Adj. R-squared:                  0.548\n",
            "Method:                 Least Squares   F-statistic:                     27.04\n",
            "Date:                Tue, 14 May 2024   Prob (F-statistic):           3.75e-10\n",
            "Time:                        12:51:50   Log-Likelihood:                 230.62\n",
            "No. Observations:                  49   AIC:                            -453.2\n",
            "Df Residuals:                      45   BIC:                            -445.7\n",
            "Df Model:                           3                                         \n",
            "Covariance Type:                  HC1                                         \n",
            "==============================================================================\n",
            "                 coef    std err          z      P>|z|      [0.025      0.975]\n",
            "------------------------------------------------------------------------------\n",
            "Intercept      0.0506      0.001     54.379      0.000       0.049       0.052\n",
            "dtr_durban    -0.7743      0.229     -3.376      0.001      -1.224      -0.325\n",
            "d_over_85      2.9963      3.179      0.943      0.346      -3.234       9.226\n",
            "d_LFP         -0.6764      0.086     -7.901      0.000      -0.844      -0.509\n",
            "==============================================================================\n",
            "Omnibus:                        2.914   Durbin-Watson:                   0.566\n",
            "Prob(Omnibus):                  0.233   Jarque-Bera (JB):                2.736\n",
            "Skew:                          -0.516   Prob(JB):                        0.255\n",
            "Kurtosis:                       2.477   Cond. No.                     9.93e+03\n",
            "==============================================================================\n",
            "\n",
            "Notes:\n",
            "[1] Standard Errors are heteroscedasticity robust (HC1)\n",
            "[2] The condition number is large, 9.93e+03. This might indicate that there are\n",
            "strong multicollinearity or other numerical problems.\n"
          ]
        }
      ]
    },
    {
      "cell_type": "markdown",
      "source": [
        "**Regression of edexp percentage of gdp detrended growth of gdp_cap, difference in urban population share, difference in 85+ population share, diff in labor force participation**"
      ],
      "metadata": {
        "id": "k16Jm2KIA6eZ"
      }
    },
    {
      "cell_type": "code",
      "source": [
        "model = ols(\"edexp_gdp ~ dtr_g_gdp_cap + dmedage + dtr_durban+ d_over_85 + 1\",\\\n",
        "            data = data).fit(cov_type = \"HC1\")\n",
        "print(model.summary())"
      ],
      "metadata": {
        "colab": {
          "base_uri": "https://localhost:8080/"
        },
        "id": "kFuj7qY0BD2y",
        "outputId": "7fece00b-6fbe-4943-d8bb-c21a156d70a1"
      },
      "execution_count": null,
      "outputs": [
        {
          "output_type": "stream",
          "name": "stdout",
          "text": [
            "                            OLS Regression Results                            \n",
            "==============================================================================\n",
            "Dep. Variable:              edexp_gdp   R-squared:                       0.276\n",
            "Model:                            OLS   Adj. R-squared:                  0.211\n",
            "Method:                 Least Squares   F-statistic:                     4.138\n",
            "Date:                Tue, 14 May 2024   Prob (F-statistic):            0.00624\n",
            "Time:                        12:51:50   Log-Likelihood:                 217.53\n",
            "No. Observations:                  49   AIC:                            -425.1\n",
            "Df Residuals:                      44   BIC:                            -415.6\n",
            "Df Model:                           4                                         \n",
            "Covariance Type:                  HC1                                         \n",
            "=================================================================================\n",
            "                    coef    std err          z      P>|z|      [0.025      0.975]\n",
            "---------------------------------------------------------------------------------\n",
            "Intercept         0.0564      0.003     17.438      0.000       0.050       0.063\n",
            "dtr_g_gdp_cap    -0.0488      0.028     -1.751      0.080      -0.103       0.006\n",
            "dmedage          -0.0118      0.005     -2.191      0.028      -0.022      -0.001\n",
            "dtr_durban       -0.7882      0.343     -2.297      0.022      -1.461      -0.116\n",
            "d_over_85         6.2950      4.156      1.515      0.130      -1.851      14.441\n",
            "==============================================================================\n",
            "Omnibus:                        4.475   Durbin-Watson:                   0.361\n",
            "Prob(Omnibus):                  0.107   Jarque-Bera (JB):                2.133\n",
            "Skew:                          -0.196   Prob(JB):                        0.344\n",
            "Kurtosis:                       2.056   Cond. No.                     1.01e+04\n",
            "==============================================================================\n",
            "\n",
            "Notes:\n",
            "[1] Standard Errors are heteroscedasticity robust (HC1)\n",
            "[2] The condition number is large, 1.01e+04. This might indicate that there are\n",
            "strong multicollinearity or other numerical problems.\n"
          ]
        }
      ]
    },
    {
      "cell_type": "code",
      "source": [
        "model = ols(\"edexp_gdp ~ dtr_g_gdp_cap + dtr_durban+ d_over_85 + d_LFP + 1\",\\\n",
        "            data = data).fit(cov_type = \"HC1\")\n",
        "print(model.summary())"
      ],
      "metadata": {
        "colab": {
          "base_uri": "https://localhost:8080/"
        },
        "id": "j4hWCPh025Zw",
        "outputId": "b6ce35ed-2e0b-49ec-fef6-2b457065a94d"
      },
      "execution_count": null,
      "outputs": [
        {
          "output_type": "stream",
          "name": "stdout",
          "text": [
            "                            OLS Regression Results                            \n",
            "==============================================================================\n",
            "Dep. Variable:              edexp_gdp   R-squared:                       0.579\n",
            "Model:                            OLS   Adj. R-squared:                  0.541\n",
            "Method:                 Least Squares   F-statistic:                     21.78\n",
            "Date:                Tue, 14 May 2024   Prob (F-statistic):           5.78e-10\n",
            "Time:                        12:51:51   Log-Likelihood:                 230.81\n",
            "No. Observations:                  49   AIC:                            -451.6\n",
            "Df Residuals:                      44   BIC:                            -442.2\n",
            "Df Model:                           4                                         \n",
            "Covariance Type:                  HC1                                         \n",
            "=================================================================================\n",
            "                    coef    std err          z      P>|z|      [0.025      0.975]\n",
            "---------------------------------------------------------------------------------\n",
            "Intercept         0.0517      0.003     20.593      0.000       0.047       0.057\n",
            "dtr_g_gdp_cap    -0.0112      0.023     -0.487      0.626      -0.056       0.034\n",
            "dtr_durban       -0.8432      0.278     -3.034      0.002      -1.388      -0.299\n",
            "d_over_85         2.7720      3.206      0.864      0.387      -3.513       9.057\n",
            "d_LFP            -0.6572      0.089     -7.412      0.000      -0.831      -0.483\n",
            "==============================================================================\n",
            "Omnibus:                        3.601   Durbin-Watson:                   0.540\n",
            "Prob(Omnibus):                  0.165   Jarque-Bera (JB):                3.154\n",
            "Skew:                          -0.530   Prob(JB):                        0.207\n",
            "Kurtosis:                       2.349   Cond. No.                     1.00e+04\n",
            "==============================================================================\n",
            "\n",
            "Notes:\n",
            "[1] Standard Errors are heteroscedasticity robust (HC1)\n",
            "[2] The condition number is large,  1e+04. This might indicate that there are\n",
            "strong multicollinearity or other numerical problems.\n"
          ]
        }
      ]
    },
    {
      "cell_type": "code",
      "source": [
        "model = ols(\"edexp_gdp ~ dtr_g_gdp_cap + dtr_durban+ dmedage + d_over_85 + d_LFP + 1\",\\\n",
        "            data = data).fit(cov_type = \"HC1\")\n",
        "print(model.summary())"
      ],
      "metadata": {
        "colab": {
          "base_uri": "https://localhost:8080/"
        },
        "id": "tMNPMG1j7RFd",
        "outputId": "3b6f1ac8-acea-471e-a379-3eceea2b2d95"
      },
      "execution_count": null,
      "outputs": [
        {
          "output_type": "stream",
          "name": "stdout",
          "text": [
            "                            OLS Regression Results                            \n",
            "==============================================================================\n",
            "Dep. Variable:              edexp_gdp   R-squared:                       0.579\n",
            "Model:                            OLS   Adj. R-squared:                  0.530\n",
            "Method:                 Least Squares   F-statistic:                     17.69\n",
            "Date:                Tue, 14 May 2024   Prob (F-statistic):           1.71e-09\n",
            "Time:                        12:51:51   Log-Likelihood:                 230.81\n",
            "No. Observations:                  49   AIC:                            -449.6\n",
            "Df Residuals:                      43   BIC:                            -438.3\n",
            "Df Model:                           5                                         \n",
            "Covariance Type:                  HC1                                         \n",
            "=================================================================================\n",
            "                    coef    std err          z      P>|z|      [0.025      0.975]\n",
            "---------------------------------------------------------------------------------\n",
            "Intercept         0.0518      0.003     19.097      0.000       0.046       0.057\n",
            "dtr_g_gdp_cap    -0.0112      0.023     -0.484      0.628      -0.057       0.034\n",
            "dtr_durban       -0.8418      0.300     -2.805      0.005      -1.430      -0.254\n",
            "dmedage        -6.32e-05      0.005     -0.013      0.990      -0.010       0.010\n",
            "d_over_85         2.7677      3.226      0.858      0.391      -3.555       9.091\n",
            "d_LFP            -0.6566      0.094     -6.976      0.000      -0.841      -0.472\n",
            "==============================================================================\n",
            "Omnibus:                        3.600   Durbin-Watson:                   0.540\n",
            "Prob(Omnibus):                  0.165   Jarque-Bera (JB):                3.149\n",
            "Skew:                          -0.529   Prob(JB):                        0.207\n",
            "Kurtosis:                       2.348   Cond. No.                     1.03e+04\n",
            "==============================================================================\n",
            "\n",
            "Notes:\n",
            "[1] Standard Errors are heteroscedasticity robust (HC1)\n",
            "[2] The condition number is large, 1.03e+04. This might indicate that there are\n",
            "strong multicollinearity or other numerical problems.\n"
          ]
        }
      ]
    },
    {
      "cell_type": "code",
      "source": [
        "model = ols(\"edexp_gdp ~ dtr_g_gdp_cap + dtr_durban+ dmedage + d_LFP + 1\",\\\n",
        "            data = data).fit(cov_type = \"HC1\")\n",
        "print(model.summary())"
      ],
      "metadata": {
        "colab": {
          "base_uri": "https://localhost:8080/"
        },
        "id": "RtHx7gYs7rFT",
        "outputId": "45e570f2-d60d-410f-ae5a-40cb43031b38"
      },
      "execution_count": null,
      "outputs": [
        {
          "output_type": "stream",
          "name": "stdout",
          "text": [
            "                            OLS Regression Results                            \n",
            "==============================================================================\n",
            "Dep. Variable:              edexp_gdp   R-squared:                       0.572\n",
            "Model:                            OLS   Adj. R-squared:                  0.534\n",
            "Method:                 Least Squares   F-statistic:                     21.31\n",
            "Date:                Tue, 14 May 2024   Prob (F-statistic):           7.86e-10\n",
            "Time:                        12:51:51   Log-Likelihood:                 230.42\n",
            "No. Observations:                  49   AIC:                            -450.8\n",
            "Df Residuals:                      44   BIC:                            -441.4\n",
            "Df Model:                           4                                         \n",
            "Covariance Type:                  HC1                                         \n",
            "=================================================================================\n",
            "                    coef    std err          z      P>|z|      [0.025      0.975]\n",
            "---------------------------------------------------------------------------------\n",
            "Intercept         0.0528      0.003     20.694      0.000       0.048       0.058\n",
            "dtr_g_gdp_cap    -0.0134      0.024     -0.568      0.570      -0.059       0.033\n",
            "dtr_durban       -0.8323      0.312     -2.668      0.008      -1.444      -0.221\n",
            "dmedage          -0.0005      0.005     -0.104      0.917      -0.010       0.009\n",
            "d_LFP            -0.6752      0.090     -7.482      0.000      -0.852      -0.498\n",
            "==============================================================================\n",
            "Omnibus:                        2.801   Durbin-Watson:                   0.529\n",
            "Prob(Omnibus):                  0.246   Jarque-Bera (JB):                2.653\n",
            "Skew:                          -0.514   Prob(JB):                        0.265\n",
            "Kurtosis:                       2.506   Cond. No.                     1.09e+03\n",
            "==============================================================================\n",
            "\n",
            "Notes:\n",
            "[1] Standard Errors are heteroscedasticity robust (HC1)\n",
            "[2] The condition number is large, 1.09e+03. This might indicate that there are\n",
            "strong multicollinearity or other numerical problems.\n"
          ]
        }
      ]
    },
    {
      "cell_type": "code",
      "source": [
        "model = ols(\"edexp_gdp ~ urban + over_85 + LFP + 1\",\\\n",
        "            data = data).fit(cov_type = \"HC1\")\n",
        "print(model.summary())"
      ],
      "metadata": {
        "colab": {
          "base_uri": "https://localhost:8080/"
        },
        "id": "wNWVUs1Q9u5L",
        "outputId": "3b391dd5-1f05-4583-91cc-590d5ef00cbd"
      },
      "execution_count": null,
      "outputs": [
        {
          "output_type": "stream",
          "name": "stdout",
          "text": [
            "                            OLS Regression Results                            \n",
            "==============================================================================\n",
            "Dep. Variable:              edexp_gdp   R-squared:                       0.675\n",
            "Model:                            OLS   Adj. R-squared:                  0.654\n",
            "Method:                 Least Squares   F-statistic:                     37.21\n",
            "Date:                Tue, 14 May 2024   Prob (F-statistic):           2.33e-12\n",
            "Time:                        12:51:51   Log-Likelihood:                 242.44\n",
            "No. Observations:                  50   AIC:                            -476.9\n",
            "Df Residuals:                      46   BIC:                            -469.2\n",
            "Df Model:                           3                                         \n",
            "Covariance Type:                  HC1                                         \n",
            "==============================================================================\n",
            "                 coef    std err          z      P>|z|      [0.025      0.975]\n",
            "------------------------------------------------------------------------------\n",
            "Intercept     -0.1477      0.025     -5.945      0.000      -0.196      -0.099\n",
            "urban          0.2979      0.034      8.638      0.000       0.230       0.365\n",
            "over_85       -1.7809      0.273     -6.521      0.000      -2.316      -1.246\n",
            "LFP           -0.0125      0.013     -0.976      0.329      -0.038       0.013\n",
            "==============================================================================\n",
            "Omnibus:                        7.917   Durbin-Watson:                   0.507\n",
            "Prob(Omnibus):                  0.019   Jarque-Bera (JB):                6.950\n",
            "Skew:                           0.826   Prob(JB):                       0.0310\n",
            "Kurtosis:                       3.781   Cond. No.                     1.88e+03\n",
            "==============================================================================\n",
            "\n",
            "Notes:\n",
            "[1] Standard Errors are heteroscedasticity robust (HC1)\n",
            "[2] The condition number is large, 1.88e+03. This might indicate that there are\n",
            "strong multicollinearity or other numerical problems.\n"
          ]
        }
      ]
    },
    {
      "cell_type": "code",
      "source": [
        "model = ols(\"edexp_gdp ~ dtr_g_gdp_cap + urban + over_85 + LFP + dtr_durban + d_over_85 + d_LFP + 1\",\\\n",
        "            data = data).fit(cov_type = \"HC1\")\n",
        "print(model.summary())"
      ],
      "metadata": {
        "colab": {
          "base_uri": "https://localhost:8080/"
        },
        "id": "jW5R-nDv9bOV",
        "outputId": "73ba0e6c-82e2-40b1-95b0-d4447e639260"
      },
      "execution_count": null,
      "outputs": [
        {
          "output_type": "stream",
          "name": "stdout",
          "text": [
            "                            OLS Regression Results                            \n",
            "==============================================================================\n",
            "Dep. Variable:              edexp_gdp   R-squared:                       0.861\n",
            "Model:                            OLS   Adj. R-squared:                  0.837\n",
            "Method:                 Least Squares   F-statistic:                     38.45\n",
            "Date:                Tue, 14 May 2024   Prob (F-statistic):           4.85e-16\n",
            "Time:                        12:51:51   Log-Likelihood:                 257.97\n",
            "No. Observations:                  49   AIC:                            -499.9\n",
            "Df Residuals:                      41   BIC:                            -484.8\n",
            "Df Model:                           7                                         \n",
            "Covariance Type:                  HC1                                         \n",
            "=================================================================================\n",
            "                    coef    std err          z      P>|z|      [0.025      0.975]\n",
            "---------------------------------------------------------------------------------\n",
            "Intercept        -0.1288      0.021     -6.115      0.000      -0.170      -0.088\n",
            "dtr_g_gdp_cap    -0.0388      0.012     -3.160      0.002      -0.063      -0.015\n",
            "urban             0.2644      0.031      8.609      0.000       0.204       0.325\n",
            "over_85          -1.6421      0.261     -6.298      0.000      -2.153      -1.131\n",
            "LFP               0.0005      0.013      0.036      0.971      -0.024       0.025\n",
            "dtr_durban       -0.8242      0.241     -3.419      0.001      -1.297      -0.352\n",
            "d_over_85         4.8812      1.797      2.717      0.007       1.360       8.403\n",
            "d_LFP            -0.1954      0.093     -2.095      0.036      -0.378      -0.013\n",
            "==============================================================================\n",
            "Omnibus:                        3.030   Durbin-Watson:                   0.788\n",
            "Prob(Omnibus):                  0.220   Jarque-Bera (JB):                2.670\n",
            "Skew:                           0.568   Prob(JB):                        0.263\n",
            "Kurtosis:                       2.874   Cond. No.                     1.50e+04\n",
            "==============================================================================\n",
            "\n",
            "Notes:\n",
            "[1] Standard Errors are heteroscedasticity robust (HC1)\n",
            "[2] The condition number is large, 1.5e+04. This might indicate that there are\n",
            "strong multicollinearity or other numerical problems.\n"
          ]
        }
      ]
    },
    {
      "cell_type": "markdown",
      "source": [
        "Time Series Regressions"
      ],
      "metadata": {
        "id": "_Y4W0K5rgYEY"
      }
    },
    {
      "cell_type": "code",
      "source": [
        "#autocorrelation function\n",
        "from statsmodels.graphics.tsaplots import plot_acf\n",
        "plot_acf(data[\"edexp_gdp\"], lags=18, missing = 'drop',\n",
        "zero = False, auto_ylims = True)"
      ],
      "metadata": {
        "colab": {
          "base_uri": "https://localhost:8080/",
          "height": 887
        },
        "id": "u29wssvUktDx",
        "outputId": "3eec8d60-22ff-47c8-f8e8-0fed1a500812"
      },
      "execution_count": null,
      "outputs": [
        {
          "output_type": "execute_result",
          "data": {
            "text/plain": [
              "<Figure size 640x480 with 1 Axes>"
            ],
            "image/png": "[encoded data removed]"
          },
          "metadata": {},
          "execution_count": 13
        },
        {
          "output_type": "display_data",
          "data": {
            "text/plain": [
              "<Figure size 640x480 with 1 Axes>"
            ],
            "image/png": "[encoded data removed]"
          },
          "metadata": {}
        }
      ]
    },
    {
      "cell_type": "code",
      "source": [
        "import statsmodels.tsa.ardl as ardl\n",
        "#fit the ARDL model with dependent variable being"
      ],
      "metadata": {
        "id": "K29G8B0qiPes"
      },
      "execution_count": null,
      "outputs": []
    },
    {
      "cell_type": "code",
      "source": [
        "#fit the best ARDL model with dependent variable\n",
        "#being proportion educational expenditures\n",
        "\n",
        "ardlmodel = ardl.ardl_select_order(endog = data[\"edexp_gdp\"], maxlag = 5,\n",
        "exog = data[[\"dtr_g_gdp_cap\", \"dtr_durban\", \"dmedage\", \"d_LFP\"]],\\\n",
        "                      maxorder = 6,\n",
        "causal = True, missing = \"drop\", ic = \"aic\").model.fit()\n",
        "\n",
        "print(ardlmodel.summary())\n",
        "\n",
        "ardlmodel = ardl.ardl_select_order(endog = data[\"edexp_gdp\"], maxlag = 5,\n",
        "exog = data[[\"dtr_g_gdp_cap\", \"dtr_durban\", \"dtr_d_over_65\", \"d_LFP\"]],\\\n",
        "                      maxorder = 6,\n",
        "causal = True, missing = \"drop\", ic = \"aic\").model.fit()\n",
        "\n",
        "print(ardlmodel.summary())\n",
        "\n",
        "ardlmodel = ardl.ardl_select_order(endog = data[\"edexp_gdp\"], maxlag = 5,\n",
        "exog = data[[\"dtr_g_gdp_cap\", \"dtr_durban\", \"d_over_85\", \"d_LFP\"]],\\\n",
        "                      maxorder = 6,\n",
        "causal = True, missing = \"drop\", ic = \"aic\").model.fit()\n",
        "\n",
        "print(ardlmodel.summary())\n",
        "\n",
        "ardlmodel = ardl.ardl_select_order(endog = data[\"edexp_gdp\"], maxlag = 5,\n",
        "exog = data[[\"dtr_g_gdp_cap\", \"dmedage\", \"dtr_durban\", \"dtr_d_over_65\", \"d_LFP\"]],\\\n",
        "                      maxorder = 6,\n",
        "causal = True, missing = \"drop\", ic = \"aic\").model.fit()\n",
        "\n",
        "print(ardlmodel.summary())\n",
        "\n",
        "ardlmodel = ardl.ardl_select_order(endog = data[\"edexp_gdp\"], maxlag = 5,\n",
        "exog = data[[\"dtr_g_gdp_cap\", \"dmedage\", \"dtr_durban\", \"d_over_85\", \"d_LFP\"]],\\\n",
        "                      maxorder = 6,\n",
        "causal = True, missing = \"drop\", ic = \"aic\").model.fit()\n",
        "\n",
        "print(ardlmodel.summary())"
      ],
      "metadata": {
        "colab": {
          "base_uri": "https://localhost:8080/"
        },
        "id": "2b0aPAF6gXgH",
        "outputId": "f0094e57-3cdc-4478-bb1b-87e102ddec69"
      },
      "execution_count": null,
      "outputs": [
        {
          "output_type": "stream",
          "name": "stderr",
          "text": [
            "/usr/local/lib/python3.10/dist-packages/statsmodels/tsa/base/tsa_model.py:473: ValueWarning: An unsupported index was provided and will be ignored when e.g. forecasting.\n",
            "  self._init_dates(dates, freq)\n",
            "/usr/local/lib/python3.10/dist-packages/statsmodels/tsa/base/tsa_model.py:473: ValueWarning: An unsupported index was provided and will be ignored when e.g. forecasting.\n",
            "  self._init_dates(dates, freq)\n"
          ]
        },
        {
          "output_type": "stream",
          "name": "stdout",
          "text": [
            "                               ARDL Model Results                              \n",
            "===============================================================================\n",
            "Dep. Variable:               edexp_gdp   No. Observations:                   49\n",
            "Model:             ARDL(3, 6, 1, 5, 5)   Log Likelihood                 274.774\n",
            "Method:                Conditional MLE   S.D. of innovations              0.001\n",
            "Date:                 Tue, 14 May 2024   AIC                           -505.547\n",
            "Time:                         12:51:57   BIC                           -465.317\n",
            "Sample:                              6   HQIC                          -490.477\n",
            "                                    49                                         \n",
            "====================================================================================\n",
            "                       coef    std err          z      P>|z|      [0.025      0.975]\n",
            "------------------------------------------------------------------------------------\n",
            "const               -0.0199      0.007     -2.966      0.007      -0.034      -0.006\n",
            "edexp_gdp.L1         1.6522      0.270      6.110      0.000       1.095       2.209\n",
            "edexp_gdp.L2        -0.2172      0.454     -0.478      0.637      -1.153       0.718\n",
            "edexp_gdp.L3        -0.4827      0.274     -1.762      0.090      -1.047       0.082\n",
            "dtr_g_gdp_cap.L1     0.0511      0.015      3.335      0.003       0.020       0.083\n",
            "dtr_g_gdp_cap.L2     0.0513      0.018      2.914      0.007       0.015       0.088\n",
            "dtr_g_gdp_cap.L3     0.0130      0.011      1.187      0.246      -0.010       0.036\n",
            "dtr_g_gdp_cap.L4     0.0178      0.011      1.686      0.104      -0.004       0.040\n",
            "dtr_g_gdp_cap.L5     0.0183      0.010      1.897      0.069      -0.002       0.038\n",
            "dtr_g_gdp_cap.L6     0.0128      0.009      1.508      0.144      -0.005       0.030\n",
            "dtr_durban.L1        0.6092      0.222      2.747      0.011       0.153       1.066\n",
            "dmedage.L1           0.0019      0.003      0.559      0.581      -0.005       0.009\n",
            "dmedage.L2           0.0057      0.003      1.673      0.107      -0.001       0.013\n",
            "dmedage.L3           0.0101      0.003      3.162      0.004       0.004       0.017\n",
            "dmedage.L4           0.0051      0.003      1.519      0.141      -0.002       0.012\n",
            "dmedage.L5           0.0082      0.003      2.507      0.019       0.001       0.015\n",
            "d_LFP.L1             0.0127      0.091      0.139      0.890      -0.175       0.201\n",
            "d_LFP.L2            -0.1577      0.095     -1.652      0.111      -0.354       0.039\n",
            "d_LFP.L3            -0.1598      0.102     -1.560      0.131      -0.371       0.051\n",
            "d_LFP.L4            -0.1479      0.085     -1.736      0.095      -0.323       0.028\n",
            "d_LFP.L5            -0.1605      0.081     -1.986      0.058      -0.327       0.006\n",
            "====================================================================================\n"
          ]
        },
        {
          "output_type": "stream",
          "name": "stderr",
          "text": [
            "/usr/local/lib/python3.10/dist-packages/statsmodels/tsa/base/tsa_model.py:473: ValueWarning: An unsupported index was provided and will be ignored when e.g. forecasting.\n",
            "  self._init_dates(dates, freq)\n",
            "/usr/local/lib/python3.10/dist-packages/statsmodels/tsa/base/tsa_model.py:473: ValueWarning: An unsupported index was provided and will be ignored when e.g. forecasting.\n",
            "  self._init_dates(dates, freq)\n",
            "/usr/local/lib/python3.10/dist-packages/statsmodels/tsa/base/tsa_model.py:473: ValueWarning: An unsupported index was provided and will be ignored when e.g. forecasting.\n",
            "  self._init_dates(dates, freq)\n"
          ]
        },
        {
          "output_type": "stream",
          "name": "stdout",
          "text": [
            "                               ARDL Model Results                              \n",
            "===============================================================================\n",
            "Dep. Variable:               edexp_gdp   No. Observations:                   49\n",
            "Model:             ARDL(5, 2, 5, 6, 5)   Log Likelihood                 265.040\n",
            "Method:                Conditional MLE   S.D. of innovations              0.001\n",
            "Date:                 Tue, 14 May 2024   AIC                           -480.079\n",
            "Time:                         12:52:00   BIC                           -435.474\n",
            "Sample:                              6   HQIC                          -463.538\n",
            "                                    49                                         \n",
            "====================================================================================\n",
            "                       coef    std err          z      P>|z|      [0.025      0.975]\n",
            "------------------------------------------------------------------------------------\n",
            "const                0.0071      0.006      1.262      0.222      -0.005       0.019\n",
            "edexp_gdp.L1         1.7114      0.294      5.827      0.000       1.099       2.324\n",
            "edexp_gdp.L2        -0.6035      0.467     -1.292      0.211      -1.578       0.371\n",
            "edexp_gdp.L3        -0.2611      0.355     -0.736      0.470      -1.001       0.479\n",
            "edexp_gdp.L4         0.3686      0.283      1.304      0.207      -0.221       0.958\n",
            "edexp_gdp.L5        -0.4862      0.194     -2.509      0.021      -0.890      -0.082\n",
            "dtr_g_gdp_cap.L1     0.0426      0.016      2.683      0.014       0.009       0.076\n",
            "dtr_g_gdp_cap.L2     0.0275      0.018      1.526      0.143      -0.010       0.065\n",
            "dtr_durban.L1       -0.0974      0.465     -0.209      0.836      -1.068       0.873\n",
            "dtr_durban.L2        1.1973      0.718      1.668      0.111      -0.300       2.695\n",
            "dtr_durban.L3       -0.9285      0.765     -1.213      0.239      -2.525       0.668\n",
            "dtr_durban.L4        1.1956      0.736      1.624      0.120      -0.340       2.732\n",
            "dtr_durban.L5       -1.2431      0.474     -2.621      0.016      -2.232      -0.254\n",
            "dtr_d_over_65.L1    -0.0918      0.364     -0.252      0.803      -0.850       0.667\n",
            "dtr_d_over_65.L2     0.5841      0.413      1.415      0.172      -0.277       1.445\n",
            "dtr_d_over_65.L3     0.2326      0.446      0.521      0.608      -0.698       1.164\n",
            "dtr_d_over_65.L4    -0.8342      0.438     -1.905      0.071      -1.748       0.079\n",
            "dtr_d_over_65.L5     0.5067      0.457      1.109      0.281      -0.446       1.460\n",
            "dtr_d_over_65.L6    -0.9302      0.355     -2.620      0.016      -1.671      -0.189\n",
            "d_LFP.L1            -0.0399      0.093     -0.430      0.672      -0.233       0.153\n",
            "d_LFP.L2             0.0186      0.095      0.197      0.846      -0.179       0.216\n",
            "d_LFP.L3            -0.0219      0.093     -0.236      0.816      -0.216       0.172\n",
            "d_LFP.L4             0.1462      0.095      1.536      0.140      -0.052       0.345\n",
            "d_LFP.L5            -0.2660      0.089     -2.983      0.007      -0.452      -0.080\n",
            "====================================================================================\n"
          ]
        },
        {
          "output_type": "stream",
          "name": "stderr",
          "text": [
            "/usr/local/lib/python3.10/dist-packages/statsmodels/tsa/base/tsa_model.py:473: ValueWarning: An unsupported index was provided and will be ignored when e.g. forecasting.\n",
            "  self._init_dates(dates, freq)\n",
            "/usr/local/lib/python3.10/dist-packages/statsmodels/tsa/base/tsa_model.py:473: ValueWarning: An unsupported index was provided and will be ignored when e.g. forecasting.\n",
            "  self._init_dates(dates, freq)\n"
          ]
        },
        {
          "output_type": "stream",
          "name": "stdout",
          "text": [
            "                               ARDL Model Results                              \n",
            "===============================================================================\n",
            "Dep. Variable:               edexp_gdp   No. Observations:                   49\n",
            "Model:             ARDL(5, 5, 6, 6, 6)   Log Likelihood                 270.747\n",
            "Method:                Conditional MLE   S.D. of innovations              0.001\n",
            "Date:                 Tue, 14 May 2024   AIC                           -481.494\n",
            "Time:                         12:52:03   BIC                           -427.968\n",
            "Sample:                              6   HQIC                          -461.644\n",
            "                                    49                                         \n",
            "====================================================================================\n",
            "                       coef    std err          z      P>|z|      [0.025      0.975]\n",
            "------------------------------------------------------------------------------------\n",
            "const                0.0058      0.008      0.718      0.484      -0.011       0.023\n",
            "edexp_gdp.L1         1.5283      0.479      3.194      0.006       0.508       2.548\n",
            "edexp_gdp.L2        -0.0602      0.612     -0.098      0.923      -1.365       1.244\n",
            "edexp_gdp.L3        -1.0283      0.551     -1.865      0.082      -2.204       0.147\n",
            "edexp_gdp.L4         0.8869      0.529      1.677      0.114      -0.240       2.014\n",
            "edexp_gdp.L5        -0.6880      0.350     -1.965      0.068      -1.434       0.058\n",
            "dtr_g_gdp_cap.L1     0.0315      0.024      1.306      0.211      -0.020       0.083\n",
            "dtr_g_gdp_cap.L2     0.0658      0.025      2.684      0.017       0.014       0.118\n",
            "dtr_g_gdp_cap.L3     0.0064      0.020      0.329      0.747      -0.035       0.048\n",
            "dtr_g_gdp_cap.L4     0.0043      0.018      0.242      0.812      -0.033       0.042\n",
            "dtr_g_gdp_cap.L5     0.0193      0.016      1.242      0.233      -0.014       0.052\n",
            "dtr_durban.L1        0.1915      0.555      0.345      0.735      -0.992       1.376\n",
            "dtr_durban.L2        0.7838      0.866      0.905      0.380      -1.062       2.629\n",
            "dtr_durban.L3       -1.5608      0.960     -1.626      0.125      -3.607       0.486\n",
            "dtr_durban.L4        2.2569      1.156      1.952      0.070      -0.207       4.721\n",
            "dtr_durban.L5       -2.3177      1.213     -1.911      0.075      -4.903       0.268\n",
            "dtr_durban.L6        1.2075      0.706      1.711      0.108      -0.296       2.711\n",
            "d_over_85.L1         1.3833      3.002      0.461      0.652      -5.015       7.782\n",
            "d_over_85.L2         5.2164      2.976      1.753      0.100      -1.128      11.561\n",
            "d_over_85.L3        -1.9074      3.980     -0.479      0.639     -10.391       6.576\n",
            "d_over_85.L4        -4.3025      8.065     -0.533      0.602     -21.492      12.887\n",
            "d_over_85.L5        18.3472     11.673      1.572      0.137      -6.532      43.227\n",
            "d_over_85.L6       -18.2888      8.171     -2.238      0.041     -35.704      -0.873\n",
            "d_LFP.L1            -0.0309      0.154     -0.201      0.844      -0.359       0.298\n",
            "d_LFP.L2            -0.0179      0.143     -0.125      0.902      -0.324       0.288\n",
            "d_LFP.L3            -0.1940      0.141     -1.373      0.190      -0.495       0.107\n",
            "d_LFP.L4             0.1156      0.139      0.831      0.419      -0.181       0.412\n",
            "d_LFP.L5            -0.3652      0.107     -3.416      0.004      -0.593      -0.137\n",
            "d_LFP.L6             0.0971      0.115      0.845      0.412      -0.148       0.342\n",
            "====================================================================================\n"
          ]
        },
        {
          "output_type": "stream",
          "name": "stderr",
          "text": [
            "/usr/local/lib/python3.10/dist-packages/statsmodels/tsa/base/tsa_model.py:473: ValueWarning: An unsupported index was provided and will be ignored when e.g. forecasting.\n",
            "  self._init_dates(dates, freq)\n"
          ]
        },
        {
          "output_type": "stream",
          "name": "stdout",
          "text": [
            "                                ARDL Model Results                                \n",
            "==================================================================================\n",
            "Dep. Variable:                  edexp_gdp   No. Observations:                   49\n",
            "Model:             ARDL(4, 5, 6, 5, 6, 6)   Log Likelihood                 291.870\n",
            "Method:                   Conditional MLE   S.D. of innovations              0.000\n",
            "Date:                    Tue, 14 May 2024   AIC                           -515.741\n",
            "Time:                            12:52:21   BIC                           -454.314\n",
            "Sample:                                 6   HQIC                          -492.841\n",
            "                                       49                                         \n",
            "====================================================================================\n",
            "                       coef    std err          z      P>|z|      [0.025      0.975]\n",
            "------------------------------------------------------------------------------------\n",
            "const               -0.0318      0.015     -2.105      0.057      -0.065       0.001\n",
            "edexp_gdp.L1         2.4154      0.350      6.905      0.000       1.653       3.178\n",
            "edexp_gdp.L2        -0.7919      0.529     -1.498      0.160      -1.944       0.360\n",
            "edexp_gdp.L3        -0.2351      0.460     -0.511      0.619      -1.238       0.768\n",
            "edexp_gdp.L4        -0.2479      0.290     -0.855      0.409      -0.880       0.384\n",
            "dtr_g_gdp_cap.L1     0.0919      0.019      4.722      0.000       0.049       0.134\n",
            "dtr_g_gdp_cap.L2     0.0372      0.022      1.720      0.111      -0.010       0.084\n",
            "dtr_g_gdp_cap.L3     0.0182      0.016      1.165      0.267      -0.016       0.052\n",
            "dtr_g_gdp_cap.L4     0.0005      0.014      0.033      0.974      -0.031       0.032\n",
            "dtr_g_gdp_cap.L5     0.0308      0.013      2.464      0.030       0.004       0.058\n",
            "dmedage.L1           0.0014      0.004      0.330      0.747      -0.008       0.011\n",
            "dmedage.L2           0.0070      0.005      1.484      0.164      -0.003       0.017\n",
            "dmedage.L3           0.0023      0.005      0.510      0.619      -0.008       0.012\n",
            "dmedage.L4           0.0105      0.004      2.723      0.019       0.002       0.019\n",
            "dmedage.L5           0.0088      0.004      2.217      0.047       0.000       0.017\n",
            "dmedage.L6           0.0040      0.004      0.965      0.353      -0.005       0.013\n",
            "dtr_durban.L1       -0.0659      0.579     -0.114      0.911      -1.328       1.196\n",
            "dtr_durban.L2        1.8121      0.899      2.016      0.067      -0.147       3.771\n",
            "dtr_durban.L3       -1.5763      0.925     -1.704      0.114      -3.592       0.440\n",
            "dtr_durban.L4        1.7337      0.911      1.904      0.081      -0.251       3.718\n",
            "dtr_durban.L5       -1.2038      0.607     -1.983      0.071      -2.527       0.119\n",
            "dtr_d_over_65.L1     0.1480      0.343      0.431      0.674      -0.600       0.896\n",
            "dtr_d_over_65.L2     0.8098      0.384      2.109      0.057      -0.027       1.647\n",
            "dtr_d_over_65.L3     0.0945      0.420      0.225      0.826      -0.822       1.011\n",
            "dtr_d_over_65.L4    -0.5717      0.445     -1.284      0.223      -1.542       0.399\n",
            "dtr_d_over_65.L5     0.6729      0.424      1.586      0.139      -0.252       1.597\n",
            "dtr_d_over_65.L6    -0.8039      0.364     -2.209      0.047      -1.597      -0.011\n",
            "d_LFP.L1             0.1043      0.107      0.972      0.350      -0.130       0.338\n",
            "d_LFP.L2             0.0093      0.117      0.080      0.938      -0.245       0.263\n",
            "d_LFP.L3            -0.2438      0.123     -1.981      0.071      -0.512       0.024\n",
            "d_LFP.L4            -0.0722      0.109     -0.663      0.520      -0.310       0.165\n",
            "d_LFP.L5            -0.2696      0.092     -2.922      0.013      -0.471      -0.069\n",
            "d_LFP.L6             0.1998      0.093      2.154      0.052      -0.002       0.402\n",
            "====================================================================================\n"
          ]
        },
        {
          "output_type": "stream",
          "name": "stderr",
          "text": [
            "/usr/local/lib/python3.10/dist-packages/statsmodels/tsa/base/tsa_model.py:473: ValueWarning: An unsupported index was provided and will be ignored when e.g. forecasting.\n",
            "  self._init_dates(dates, freq)\n",
            "/usr/local/lib/python3.10/dist-packages/statsmodels/tsa/base/tsa_model.py:473: ValueWarning: An unsupported index was provided and will be ignored when e.g. forecasting.\n",
            "  self._init_dates(dates, freq)\n"
          ]
        },
        {
          "output_type": "stream",
          "name": "stdout",
          "text": [
            "                                ARDL Model Results                                \n",
            "==================================================================================\n",
            "Dep. Variable:                  edexp_gdp   No. Observations:                   49\n",
            "Model:             ARDL(5, 6, 6, 5, 5, 6)   Log Likelihood                 294.240\n",
            "Method:                   Conditional MLE   S.D. of innovations              0.000\n",
            "Date:                    Tue, 14 May 2024   AIC                           -518.480\n",
            "Time:                            12:52:39   BIC                           -456.034\n",
            "Sample:                                 6   HQIC                          -495.322\n",
            "                                       49                                         \n",
            "====================================================================================\n",
            "                       coef    std err          z      P>|z|      [0.025      0.975]\n",
            "------------------------------------------------------------------------------------\n",
            "const               -0.0400      0.015     -2.756      0.020      -0.072      -0.008\n",
            "edexp_gdp.L1         2.3996      0.455      5.268      0.000       1.385       3.414\n",
            "edexp_gdp.L2         0.4251      0.524      0.811      0.436      -0.743       1.593\n",
            "edexp_gdp.L3        -1.6213      0.493     -3.289      0.008      -2.720      -0.523\n",
            "edexp_gdp.L4         0.1396      0.399      0.350      0.734      -0.750       1.029\n",
            "edexp_gdp.L5        -0.2883      0.299     -0.963      0.358      -0.955       0.378\n",
            "dtr_g_gdp_cap.L1     0.0795      0.023      3.490      0.006       0.029       0.130\n",
            "dtr_g_gdp_cap.L2     0.0898      0.022      4.164      0.002       0.042       0.138\n",
            "dtr_g_gdp_cap.L3     0.0142      0.014      0.984      0.348      -0.018       0.046\n",
            "dtr_g_gdp_cap.L4    -0.0110      0.015     -0.748      0.472      -0.044       0.022\n",
            "dtr_g_gdp_cap.L5     0.0401      0.013      2.975      0.014       0.010       0.070\n",
            "dtr_g_gdp_cap.L6     0.0105      0.009      1.238      0.244      -0.008       0.029\n",
            "dmedage.L1           0.0013      0.004      0.304      0.767      -0.008       0.011\n",
            "dmedage.L2           0.0076      0.005      1.611      0.138      -0.003       0.018\n",
            "dmedage.L3           0.0029      0.005      0.628      0.544      -0.007       0.013\n",
            "dmedage.L4           0.0127      0.004      3.180      0.010       0.004       0.022\n",
            "dmedage.L5           0.0118      0.004      2.933      0.015       0.003       0.021\n",
            "dmedage.L6           0.0139      0.004      3.276      0.008       0.004       0.023\n",
            "dtr_durban.L1       -0.0145      0.562     -0.026      0.980      -1.267       1.238\n",
            "dtr_durban.L2        1.8172      0.877      2.072      0.065      -0.137       3.771\n",
            "dtr_durban.L3       -2.6291      0.941     -2.795      0.019      -4.725      -0.533\n",
            "dtr_durban.L4        3.1880      1.061      3.006      0.013       0.825       5.551\n",
            "dtr_durban.L5       -2.4948      0.765     -3.262      0.009      -4.199      -0.790\n",
            "d_over_85.L1         3.3943      2.467      1.376      0.199      -2.103       8.892\n",
            "d_over_85.L2         8.1800      2.417      3.385      0.007       2.795      13.565\n",
            "d_over_85.L3        -6.0254      3.274     -1.840      0.096     -13.320       1.269\n",
            "d_over_85.L4        -7.6090      6.460     -1.178      0.266     -22.003       6.785\n",
            "d_over_85.L5        23.3947      8.394      2.787      0.019       4.691      42.098\n",
            "d_LFP.L1             0.2304      0.138      1.664      0.127      -0.078       0.539\n",
            "d_LFP.L2             0.2255      0.130      1.741      0.112      -0.063       0.514\n",
            "d_LFP.L3            -0.3956      0.136     -2.909      0.016      -0.699      -0.093\n",
            "d_LFP.L4            -0.2457      0.137     -1.791      0.104      -0.551       0.060\n",
            "d_LFP.L5            -0.4206      0.089     -4.715      0.001      -0.619      -0.222\n",
            "d_LFP.L6             0.2126      0.095      2.249      0.048       0.002       0.423\n",
            "====================================================================================\n"
          ]
        }
      ]
    },
    {
      "cell_type": "markdown",
      "source": [
        "*Instrumental variable*"
      ],
      "metadata": {
        "id": "kdLScDT5m2IK"
      }
    },
    {
      "cell_type": "code",
      "source": [
        "try:\n",
        "  import linearmodels as lm\n",
        "except:\n",
        "  !pip install linearmodels\n",
        "  import linearmodels as lm\n",
        "\n",
        "formula = \"dtr_g_gdp_cap ~ [\"\n",
        "for i in range (9, 12):\n",
        "  data[\"edexp_dev_lag\"+ str(i)] = data[\"dtr_g_edexp_cap\"].shift(i)\n",
        "  formula = formula + \"edexp_dev_lag\" + str(i) + \"+\"\n",
        "formula = formula[:-1]\n",
        "formula = formula + \"~dmedage + dtr_durban+ d_over_85]\"\n",
        "tsls = lm.IV2SLS.from_formula(formula,\n",
        "                              data = data[13:])\n",
        "print(tsls.fit())"
      ],
      "metadata": {
        "colab": {
          "base_uri": "https://localhost:8080/"
        },
        "id": "h7-nsnXQm6pZ",
        "outputId": "d99d2d58-7584-4a89-cffe-085714c2734d"
      },
      "execution_count": null,
      "outputs": [
        {
          "output_type": "stream",
          "name": "stdout",
          "text": [
            "Collecting linearmodels\n",
            "  Downloading linearmodels-6.0-cp310-cp310-manylinux_2_17_x86_64.manylinux2014_x86_64.whl (1.5 MB)\n",
            "\u001b[2K     \u001b[90m━━━━━━━━━━━━━━━━━━━━━━━━━━━━━━━━━━━━━━━━\u001b[0m \u001b[32m1.5/1.5 MB\u001b[0m \u001b[31m9.6 MB/s\u001b[0m eta \u001b[36m0:00:00\u001b[0m\n",
            "\u001b[?25hRequirement already satisfied: numpy<3,>=1.22.3 in /usr/local/lib/python3.10/dist-packages (from linearmodels) (1.25.2)\n",
            "Requirement already satisfied: pandas>=1.4.0 in /usr/local/lib/python3.10/dist-packages (from linearmodels) (2.0.3)\n",
            "Requirement already satisfied: scipy>=1.8.0 in /usr/local/lib/python3.10/dist-packages (from linearmodels) (1.11.4)\n",
            "Requirement already satisfied: statsmodels>=0.13.0 in /usr/local/lib/python3.10/dist-packages (from linearmodels) (0.14.2)\n",
            "Collecting mypy-extensions>=0.4 (from linearmodels)\n",
            "  Downloading mypy_extensions-1.0.0-py3-none-any.whl (4.7 kB)\n",
            "Requirement already satisfied: Cython>=3.0.10 in /usr/local/lib/python3.10/dist-packages (from linearmodels) (3.0.10)\n",
            "Collecting pyhdfe>=0.1 (from linearmodels)\n",
            "  Downloading pyhdfe-0.2.0-py3-none-any.whl (19 kB)\n",
            "Collecting formulaic>=1.0.0 (from linearmodels)\n",
            "  Downloading formulaic-1.0.1-py3-none-any.whl (94 kB)\n",
            "\u001b[2K     \u001b[90m━━━━━━━━━━━━━━━━━━━━━━━━━━━━━━━━━━━━━━━━\u001b[0m \u001b[32m94.2/94.2 kB\u001b[0m \u001b[31m6.6 MB/s\u001b[0m eta \u001b[36m0:00:00\u001b[0m\n",
            "\u001b[?25hCollecting setuptools-scm[toml]<9.0.0,>=8.0.0 (from linearmodels)\n",
            "  Downloading setuptools_scm-8.1.0-py3-none-any.whl (43 kB)\n",
            "\u001b[2K     \u001b[90m━━━━━━━━━━━━━━━━━━━━━━━━━━━━━━━━━━━━━━━━\u001b[0m \u001b[32m43.7/43.7 kB\u001b[0m \u001b[31m5.6 MB/s\u001b[0m eta \u001b[36m0:00:00\u001b[0m\n",
            "\u001b[?25hCollecting interface-meta>=1.2.0 (from formulaic>=1.0.0->linearmodels)\n",
            "  Downloading interface_meta-1.3.0-py3-none-any.whl (14 kB)\n",
            "Requirement already satisfied: typing-extensions>=4.2.0 in /usr/local/lib/python3.10/dist-packages (from formulaic>=1.0.0->linearmodels) (4.11.0)\n",
            "Requirement already satisfied: wrapt>=1.0 in /usr/local/lib/python3.10/dist-packages (from formulaic>=1.0.0->linearmodels) (1.14.1)\n",
            "Requirement already satisfied: python-dateutil>=2.8.2 in /usr/local/lib/python3.10/dist-packages (from pandas>=1.4.0->linearmodels) (2.8.2)\n",
            "Requirement already satisfied: pytz>=2020.1 in /usr/local/lib/python3.10/dist-packages (from pandas>=1.4.0->linearmodels) (2023.4)\n",
            "Requirement already satisfied: tzdata>=2022.1 in /usr/local/lib/python3.10/dist-packages (from pandas>=1.4.0->linearmodels) (2024.1)\n",
            "Requirement already satisfied: packaging>=20 in /usr/local/lib/python3.10/dist-packages (from setuptools-scm[toml]<9.0.0,>=8.0.0->linearmodels) (24.0)\n",
            "Requirement already satisfied: setuptools in /usr/local/lib/python3.10/dist-packages (from setuptools-scm[toml]<9.0.0,>=8.0.0->linearmodels) (67.7.2)\n",
            "Requirement already satisfied: tomli>=1 in /usr/local/lib/python3.10/dist-packages (from setuptools-scm[toml]<9.0.0,>=8.0.0->linearmodels) (2.0.1)\n",
            "Requirement already satisfied: patsy>=0.5.6 in /usr/local/lib/python3.10/dist-packages (from statsmodels>=0.13.0->linearmodels) (0.5.6)\n",
            "Requirement already satisfied: six in /usr/local/lib/python3.10/dist-packages (from patsy>=0.5.6->statsmodels>=0.13.0->linearmodels) (1.16.0)\n",
            "Installing collected packages: setuptools-scm, mypy-extensions, interface-meta, pyhdfe, formulaic, linearmodels\n",
            "Successfully installed formulaic-1.0.1 interface-meta-1.3.0 linearmodels-6.0 mypy-extensions-1.0.0 pyhdfe-0.2.0 setuptools-scm-8.1.0\n",
            "                          IV-2SLS Estimation Summary                          \n",
            "==============================================================================\n",
            "Dep. Variable:          dtr_g_gdp_cap   R-squared:                     -75.394\n",
            "Estimator:                    IV-2SLS   Adj. R-squared:                -82.134\n",
            "No. Observations:                  37   F-statistic:                    0.7547\n",
            "Date:                Tue, May 14 2024   P-value (F-stat)                0.8603\n",
            "Time:                        12:52:49   Distribution:                  chi2(3)\n",
            "Cov. Estimator:                robust                                         \n",
            "                                                                              \n",
            "                                Parameter Estimates                                \n",
            "===================================================================================\n",
            "                 Parameter  Std. Err.     T-stat    P-value    Lower CI    Upper CI\n",
            "-----------------------------------------------------------------------------------\n",
            "edexp_dev_lag9     -8.4038     186.41    -0.0451     0.9640     -373.77      356.96\n",
            "edexp_dev_lag10     39.884     818.79     0.0487     0.9611     -1564.9      1644.7\n",
            "edexp_dev_lag11    -30.311     633.33    -0.0479     0.9618     -1271.6      1211.0\n",
            "===================================================================================\n",
            "\n",
            "Endogenous: edexp_dev_lag9, edexp_dev_lag10, edexp_dev_lag11\n",
            "Instruments: dmedage, dtr_durban, d_over_85\n",
            "Robust Covariance (Heteroskedastic)\n",
            "Debiased: False\n"
          ]
        }
      ]
    },
    {
      "cell_type": "markdown",
      "source": [
        "**We will next conduct a regression on differences of panel data**"
      ],
      "metadata": {
        "id": "dnHQEoRCY1aL"
      }
    },
    {
      "cell_type": "code",
      "source": [
        "data = pd.read_csv(\"paneldata2.csv\")\n",
        "for column in data.columns:\n",
        "  if column == \"State\":\n",
        "    continue\n",
        "  if column == \"StateID\":\n",
        "    data[column] = data[column].astype(int)\n",
        "  else:\n",
        "    data[column] = data[column].astype(float)\n",
        "print(data.head())"
      ],
      "metadata": {
        "colab": {
          "base_uri": "https://localhost:8080/"
        },
        "id": "NhzKi35t2DWL",
        "outputId": "ea8e44c2-9b13-4aba-fa2f-6a9b3d0bbedf"
      },
      "execution_count": null,
      "outputs": [
        {
          "output_type": "stream",
          "name": "stdout",
          "text": [
            "           State  StateID      d_ed     g_gdp  d_medage  d_retired     d_lfp  \\\n",
            "0  United States        0 -0.019534 -0.023173      0.20     0.0039 -0.003909   \n",
            "1        Alabama        1  0.005989 -0.014343      0.25     0.0040 -0.002818   \n",
            "2         Alaska        2  0.044931 -0.076109      0.10     0.0054 -0.005727   \n",
            "3        Arizona        3 -0.027239  0.006327      0.40     0.0045  0.000364   \n",
            "4       Arkansas        4  0.019719 -0.014358      0.25     0.0034 -0.001000   \n",
            "\n",
            "    d_urban  \n",
            "0 -0.007725  \n",
            "1 -0.001300  \n",
            "2 -0.001100  \n",
            "3 -0.000500  \n",
            "4 -0.000700  \n"
          ]
        }
      ]
    },
    {
      "cell_type": "code",
      "source": [
        "data = data.iloc[1:,]\n",
        "print(data.head())"
      ],
      "metadata": {
        "colab": {
          "base_uri": "https://localhost:8080/"
        },
        "id": "BZRm-Tti2oZm",
        "outputId": "009d8579-2dc7-4935-a0e5-673265d01788"
      },
      "execution_count": null,
      "outputs": [
        {
          "output_type": "stream",
          "name": "stdout",
          "text": [
            "        State  StateID      d_ed     g_gdp  d_medage  d_retired     d_lfp  \\\n",
            "1     Alabama        1  0.005989 -0.014343      0.25     0.0040 -0.002818   \n",
            "2      Alaska        2  0.044931 -0.076109      0.10     0.0054 -0.005727   \n",
            "3     Arizona        3 -0.027239  0.006327      0.40     0.0045  0.000364   \n",
            "4    Arkansas        4  0.019719 -0.014358      0.25     0.0034 -0.001000   \n",
            "5  California        5 -0.035567 -0.013065      0.15     0.0038 -0.003273   \n",
            "\n",
            "   d_urban  \n",
            "1  -0.0013  \n",
            "2  -0.0011  \n",
            "3  -0.0005  \n",
            "4  -0.0007  \n",
            "5  -0.0008  \n"
          ]
        }
      ]
    },
    {
      "cell_type": "code",
      "source": [
        "#run regression\n",
        "model = ols(\"d_ed ~ g_gdp + d_medage + d_retired + d_lfp + d_urban + 1\",\\\n",
        "            data = data).fit(cov_type = \"HC1\")\n",
        "print(model.summary())\n"
      ],
      "metadata": {
        "colab": {
          "base_uri": "https://localhost:8080/"
        },
        "id": "M41vmWXI3PjO",
        "outputId": "d97e0490-24ef-48a5-f75f-d8d98ef86f24"
      },
      "execution_count": null,
      "outputs": [
        {
          "output_type": "stream",
          "name": "stdout",
          "text": [
            "                            OLS Regression Results                            \n",
            "==============================================================================\n",
            "Dep. Variable:                   d_ed   R-squared:                       0.087\n",
            "Model:                            OLS   Adj. R-squared:                 -0.016\n",
            "Method:                 Least Squares   F-statistic:                    0.5586\n",
            "Date:                Tue, 14 May 2024   Prob (F-statistic):              0.731\n",
            "Time:                        12:53:09   Log-Likelihood:                 110.24\n",
            "No. Observations:                  50   AIC:                            -208.5\n",
            "Df Residuals:                      44   BIC:                            -197.0\n",
            "Df Model:                           5                                         \n",
            "Covariance Type:                  HC1                                         \n",
            "==============================================================================\n",
            "                 coef    std err          z      P>|z|      [0.025      0.975]\n",
            "------------------------------------------------------------------------------\n",
            "Intercept     -0.0157      0.011     -1.474      0.141      -0.037       0.005\n",
            "g_gdp         -0.2241      0.219     -1.025      0.305      -0.653       0.204\n",
            "d_medage      -0.0180      0.020     -0.920      0.357      -0.056       0.020\n",
            "d_retired     -1.0584      2.007     -0.527      0.598      -4.992       2.875\n",
            "d_lfp         -0.1580      1.034     -0.153      0.879      -2.185       1.869\n",
            "d_urban       -2.8154      4.968     -0.567      0.571     -12.552       6.921\n",
            "==============================================================================\n",
            "Omnibus:                        3.717   Durbin-Watson:                   1.714\n",
            "Prob(Omnibus):                  0.156   Jarque-Bera (JB):                3.193\n",
            "Skew:                           0.233   Prob(JB):                        0.203\n",
            "Kurtosis:                       4.147   Cond. No.                         902.\n",
            "==============================================================================\n",
            "\n",
            "Notes:\n",
            "[1] Standard Errors are heteroscedasticity robust (HC1)\n"
          ]
        }
      ]
    },
    {
      "cell_type": "markdown",
      "source": [
        "**Try Fixed Effects** doesn't work"
      ],
      "metadata": {
        "id": "xK2oAzxygTTk"
      }
    },
    {
      "cell_type": "code",
      "source": [
        "data = pd.read_csv(\"fedata.csv\")\n",
        "for column in data.columns:\n",
        "  if column == \"State\":\n",
        "    continue\n",
        "  elif column == \"t\":\n",
        "    data[column] = data[column].astype(int)\n",
        "  else:\n",
        "    if type(data[column][0]) == str:\n",
        "      newc = pd.Series([0]*len(data[column]))\n",
        "      for item in data[column]:\n",
        "        item.replace(\",\", \"\")\n",
        "      data[column] = newc\n",
        "    data[column] = data[column].astype(float)\n",
        "print(data.head())\n",
        "data_pd = data.set_index(['State','t'])"
      ],
      "metadata": {
        "colab": {
          "base_uri": "https://localhost:8080/"
        },
        "id": "CRh06DinBHER",
        "outputId": "7a54b30a-3ad4-4186-a698-4e5ad3203968"
      },
      "execution_count": null,
      "outputs": [
        {
          "output_type": "stream",
          "name": "stdout",
          "text": [
            "     State  t  edexp_gdp  gdp  medage  retired        lfp    urban\n",
            "0  Alabama  1   0.017234  0.0   39.10   17.200  57.554546  0.57895\n",
            "1  Alabama  2   0.016907  0.0   39.35   17.600  57.272727  0.57765\n",
            "2   Alaska  1   0.014999  0.0   36.20   12.290  64.563636  0.65065\n",
            "3   Alaska  2   0.014842  0.0   36.30   12.830  63.990909  0.64955\n",
            "4  Arizona  1   0.013296  0.0   39.15   17.825  61.654545  0.89375\n"
          ]
        }
      ]
    },
    {
      "cell_type": "code",
      "source": [
        "##try:\n",
        "##  import linearmodels as lm\n",
        "##except:\n",
        "##  !pip install linearmodels\n",
        "##  import linearmodels as lm\n",
        "\n",
        "##model = lm.PanelOLS.from_formula(\"edexp_gdp ~ gdp + medage + retired +\" +\\\n",
        "##                                 \"lfp + urban + 1 + EntityEffects\",\\\n",
        "##                                 data = data_pd)\n",
        "##fatality_fe = model.fit(cov_type='clustered', cluster_entity=True)\n",
        "##print(fatality_fe)\n"
      ],
      "metadata": {
        "id": "OGERIfaD4_Jl"
      },
      "execution_count": null,
      "outputs": []
    }
  ]
}